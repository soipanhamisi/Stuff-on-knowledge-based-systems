{
 "cells": [
  {
   "cell_type": "code",
   "execution_count": 6,
   "metadata": {},
   "outputs": [
    {
     "name": "stdout",
     "output_type": "stream",
     "text": [
      "Adds fudge...\n",
      "Adds sprinkles... \n",
      "Here is a vanilla ice cream\n"
     ]
    }
   ],
   "source": [
    "#how decorators work\n",
    "#addeding a decorator funtion that takes the base funtion as an argument\n",
    "def add_sprinkles(func):\n",
    "    def wrapper(*args, **kwargs):#definnig a wrapper function tha takes in any number of arguments\n",
    "        print(\"Adds sprinkles... \")\n",
    "        func(*args, **kwargs)#calling the base funtion\n",
    "    return wrapper#returning the wrapper funtion ie the base function and the extended functionality/decorator\n",
    "\n",
    "def add_fudge(func):\n",
    "    def wrapper(*args, **kwargs):\n",
    "        print(\"Adds fudge...\")\n",
    "        func(*args, **kwargs)\n",
    "    return wrapper\n",
    "    \n",
    "#defining a base funtion\n",
    "@add_fudge#calling the decorator function\n",
    "@add_sprinkles\n",
    "def print_ice_cream(flavor):\n",
    "    print(f\"Here is a {flavor} ice cream\")\n",
    "\n",
    "print_ice_cream(\"vanilla\")#calling the base funtion"
   ]
  },
  {
   "cell_type": "code",
   "execution_count": 1,
   "metadata": {},
   "outputs": [
    {
     "name": "stdout",
     "output_type": "stream",
     "text": [
      "[27, 64, 125, 216, 343]\n"
     ]
    }
   ],
   "source": [
    "def my_map(my_func, list):\n",
    "    result = []\n",
    "    for item in list:\n",
    "        new_item = my_func(item)\n",
    "        result.append(new_item)\n",
    "    return result\n",
    "\n",
    "\n",
    "num = [3, 4, 5 , 6, 7]\n",
    "print(my_map((lambda x: x**3), num))"
   ]
  },
  {
   "cell_type": "code",
   "execution_count": null,
   "metadata": {},
   "outputs": [
    {
     "name": "stdout",
     "output_type": "stream",
     "text": [
      "This is a cat!\n",
      "This is a cat!\n"
     ]
    }
   ],
   "source": [
    "from experta import *\n",
    "from collections import defaultdict\n",
    "\n",
    "class Rule:\n",
    "    def __init__(self, *args):\n",
    "        self.conditions = []\n",
    "        for arg in args:\n",
    "            if isinstance(arg, Fact):\n",
    "                self.conditions.append(arg)\n",
    "            elif callable(arg):\n",
    "                self.conditions.append(arg)\n",
    "\n",
    "    def __call__(self, engine):\n",
    "        \"\"\"\n",
    "        This method is called when the rule is evaluated.\n",
    "        It checks if all conditions are met and executes the associated action.\n",
    "        \"\"\"\n",
    "        for condition in self.conditions:\n",
    "            if callable(condition):\n",
    "                if not condition(engine):\n",
    "                    return False  # Condition not met\n",
    "            elif not engine.facts.match(condition):\n",
    "                return False  # Fact not found\n",
    "\n",
    "        # All conditions met, execute the action\n",
    "        engine.agenda.append(self)\n",
    "        return True\n",
    "\n",
    "class KnowledgeEngine:\n",
    "    def __init__(self):\n",
    "        self.facts = defaultdict(list)\n",
    "        self.agenda = []\n",
    "\n",
    "    def declare(self, fact):\n",
    "        if isinstance(fact, Fact):\n",
    "            self.facts[type(fact)].append(fact)\n",
    "        else:\n",
    "            raise TypeError(\"Only Fact objects can be declared.\")\n",
    "\n",
    "    def run(self):\n",
    "        while self.agenda:\n",
    "            rule = self.agenda.pop(0)\n",
    "            rule.execute(self) \n",
    "\n",
    "# Example Usage\n",
    "class MyKnowledgeBase(KnowledgeEngine):\n",
    "    @Rule(Fact('animal', family='felinae'))\n",
    "    def is_a_cat(self):\n",
    "        print(\"This is a cat!\")\n",
    "\n",
    "engine = MyKnowledgeBase()\n",
    "engine.reset()\n",
    "engine.declare(Fact('animal', family='felinae'))\n",
    "engine.run()"
   ]
  },
  {
   "cell_type": "code",
   "execution_count": null,
   "metadata": {},
   "outputs": [],
   "source": [
    "from experta import *\n",
    "\n",
    "class diagoseEngine(KnowledgeEngine):\n",
    "    @Rule(Fact(symptom ='fever'))\n",
    "    def malaria(self):\n",
    "        print(\"You have malaria\")\n",
    "\n",
    "    @Rule(Fact(symptom = 'cough'))\n",
    "    def flu(self):\n",
    "        print(\"You have a flu\")\n",
    "    \n",
    "    @Rule(Fact(symptom = 'headache'))\n",
    "    def hypertension(self):\n",
    "        print(\"you have hypertension\")\n",
    "    \n",
    "    #adding a wildcard rule\n",
    "    @Rule(NOT(Fact(symptom = W())))\n",
    "    def dont_know(self):\n",
    "        print(\"I dont know what you have\")  \n",
    "    \n",
    "\n",
    "engine = diagoseEngine()\n",
    "engine.reset()\n",
    "\n",
    "symptoms = input(\"enter a list of your symptoms comma seperated\")\n",
    "engineInput = symptoms.lower().split(\",\")\n",
    "for s in engineInput:\n",
    "    engine.declare(Fact(symptom = s))\n",
    "\n",
    "engine.run()cough_"
   ]
  },
  {
   "cell_type": "code",
   "execution_count": 15,
   "metadata": {},
   "outputs": [
    {
     "name": "stdout",
     "output_type": "stream",
     "text": [
      "Welcome to the Medical Diagnosis Knowledge-Based System\n",
      "Possible symptoms: Common Cold, Flu, Pneumonia, Tuberculosis, Allergies, cough, sneezing, fever\n",
      "\n",
      "Enter symptoms (comma separated):\n",
      "No diagnoses found. Please consult a doctor.\n"
     ]
    }
   ],
   "source": [
    "class KnowledgeBase:\n",
    "    def __init__(self):\n",
    "        self.diseases = {\n",
    "            \"Common Cold\": {\"symptoms\": [\"cough\", \"sneezing\", \"sore throat\"], \"treatment\": \"rest and hydration\"},\n",
    "            \"Flu\": {\"symptoms\": [\"fever\", \"fatigue\", \"body aches\"], \"treatment\": \"antiviral medication\"},\n",
    "            \"Pneumonia\": {\"symptoms\": [\"chest pain\", \"cough\", \"fever\"], \"treatment\": \"antibiotics\"},\n",
    "            \"Tuberculosis\": {\"symptoms\": [\"cough with blood\", \"fatigue\", \"weight loss\"], \"treatment\": \"antibiotics\"},\n",
    "            \"Allergies\": {\"symptoms\": [\"sneezing\", \"itchy eyes\", \"rash\"], \"treatment\": \"antihistamines\"}\n",
    "        }\n",
    "\n",
    "        self.relationships = {\n",
    "            \"Common Cold\": [\"Flu\", \"Allergies\"],\n",
    "            \"Flu\": [\"Common Cold\", \"Pneumonia\"],\n",
    "            \"Pneumonia\": [\"Flu\"],\n",
    "            \"Tuberculosis\": [],\n",
    "            \"Allergies\": [\"Common Cold\"],\n",
    "            \"cough\": [\"Common Cold\", \"Flu\", \"Pneumonia\", \"Tuberculosis\"],\n",
    "            \"sneezing\": [\"Common Cold\", \"Flu\", \"Allergies\"],\n",
    "            \"fever\": [\"Flu\", \"Pneumonia\"]\n",
    "        }\n",
    "\n",
    "    def diagnose(self, symptoms):\n",
    "        possible_diseases = {}\n",
    "        for symptom in symptoms:\n",
    "            for disease in self.relationships.get(symptom, []):\n",
    "                possible_diseases[disease] = possible_diseases.get(disease, 0) + 1\n",
    "\n",
    "        # Sort diseases by the number of matching symptoms (most relevant first)\n",
    "        sorted_diseases = sorted(possible_diseases.items(), key=lambda x: x[1], reverse=True)\n",
    "\n",
    "        return [disease for disease, _ in sorted_diseases]\n",
    "\n",
    "# Interactive mode\n",
    "kb = KnowledgeBase()\n",
    "print(\"Welcome to the Medical Diagnosis Knowledge-Based System\")\n",
    "print(\"Possible symptoms:\", \", \".join(kb.relationships.keys()))\n",
    "print(\"\\nEnter symptoms (comma separated):\")\n",
    "user_input = input(\">\").lower().split(\",\")\n",
    "\n",
    "symptoms = [symptom.strip() for symptom in user_input]\n",
    "diagnoses = kb.diagnose(symptoms)\n",
    "\n",
    "if diagnoses:\n",
    "    print(\"Possible diagnoses:\")\n",
    "    for disease in diagnoses:\n",
    "        print(f\"- {disease}: {kb.diseases[disease]['treatment']}\")\n",
    "else:\n",
    "    print(\"No diagnoses found. Please consult a doctor.\")"
   ]
  },
  {
   "cell_type": "code",
   "execution_count": null,
   "metadata": {},
   "outputs": [
    {
     "name": "stdout",
     "output_type": "stream",
     "text": [
      "[{1: {'id': 1, 'age': 25, 'interests': ['hiking', 'biking'], 'location': 'NY'}}, {2: {'id': 2, 'age': 30, 'interests': ['biking', 'reading'], 'location': 'NY'}}, {3: {'id': 3, 'age': 28, 'interests': ['biking', 'movies'], 'location': 'CA'}}, {4: {'id': 4, 'age': 27, 'interests': ['hiking', 'movies'], 'location': 'CA'}}, {5: {'id': 5, 'age': 26, 'interests': ['reading', 'movies'], 'location': 'NY'}}]\n"
     ]
    }
   ],
   "source": [
    "#practicing making a matchmaking system\n",
    "class knowledgeBase:\n",
    "    def __init__(self):\n",
    "        self.profiles = {}\n",
    "        self.next_id = 1\n",
    "\n",
    "    def add_profile(self, profile_data):\n",
    "        profile_id = self.next_id\n",
    "        self.profiles[profile_id] = {'id': profile_id, **profile_data}\n",
    "        self.next_id += 1\n",
    "        return profile_id\n",
    "\n",
    "    def get_all_profiles(self):\n",
    "        return list(self.profiles.values())\n",
    "    \n",
    "\n",
    "    def displayData(self):\n",
    "        print([{key: values} for key, values in self.profiles.items()])\n",
    "\n",
    "class matchMaking:\n",
    "    def __init__(self, knowledgeBase, weights, maxAgeDiff = 20):\n",
    "        self.knowledgeBase = knowledgeBase\n",
    "        self.weights = weights or {'age': 0.2, 'interest': 0.3, 'location': 0.5}\n",
    "        self.maxAge = maxAgeDiff\n",
    "\n",
    "    def find_compatibity_helper_function(self, profile_a, profile_b):\n",
    "        #finding age compatibility\n",
    "       age_diff = abs( profile_a['age']-profile_b['age'] )\n",
    "       age_compatibity = max(0, 1- (age_diff/self.maxAge))\n",
    "\n",
    "       #finding interest compatibility\n",
    "       profile_a_interests = profile_a['interests']\n",
    "       profile_b_interests = profile_b['interests']\n",
    "       common_interests = len(profile_a_interests & profile_b_interests)\n",
    "       all_interests = len(profile_a_interests | profile_b_interests)\n",
    "       interest_compatibilty = (common_interests/all_interests) * self.weights['interest']\n",
    "\n",
    "       #finding the location compatibilty\n",
    "       location_compatibilty = (self.weights['location'] if profile_a['location'] == profile_b['location'] else 0)\n",
    "\n",
    "       return age_compatibity + interest_compatibilty + location_compatibilty\n",
    "    \n",
    "    def matchmaker(self, user_id):\n",
    "        profile_compatibilty_scores = {}\n",
    "        target_profile = self.knowledgeBase.get('user_id')\n",
    "        for profile in self.knowledgeBase.get_all_profiles():\n",
    "            if profile != target_profile:\n",
    "                profile_compatibilty_scores[profile['profile_id']] = self.find_compatibity_helper_function(target_profile, profile)\n",
    "\n",
    "        sorted_profiles = sorted(self.knowledgeBase.items(), key= lambda x: x[1], reverse= True)\n",
    "        return sorted_profiles\n",
    "            \n",
    "\n",
    "\n",
    "\n",
    "\n",
    "\n",
    "\n",
    "if __name__ == '__main__':\n",
    "    #initialize the knowledgebase\n",
    "    kb = knowledgeBase()\n",
    "\n",
    "    #populate with sample profiles\n",
    "    profiles = [\n",
    "        {'age': 25, 'interests': ['hiking', 'biking'], 'location': 'NY'},\n",
    "        {'age': 30, 'interests': ['biking', 'reading'], 'location': 'NY'},\n",
    "        {'age': 28, 'interests': ['biking', 'movies'], 'location': 'CA'},\n",
    "        {'age': 27, 'interests': ['hiking', 'movies'], 'location': 'CA'},\n",
    "        {'age': 26, 'interests': ['reading', 'movies'], 'location': 'NY'}\n",
    "    ]\n",
    "    for p in profiles:\n",
    "        kb.add_profile(p)\n",
    "    \n",
    "    kb.displayData()\n",
    "\n",
    "\n",
    "\n"
   ]
  },
  {
   "cell_type": "markdown",
   "metadata": {},
   "source": [
    "## practicing creating and simulating agents moving in 2D space"
   ]
  },
  {
   "cell_type": "code",
   "execution_count": 18,
   "metadata": {},
   "outputs": [],
   "source": [
    "#importing usefull libraries\n",
    "import matplotlib as plt\n",
    "import random"
   ]
  },
  {
   "cell_type": "code",
   "execution_count": 19,
   "metadata": {},
   "outputs": [],
   "source": [
    "#creating an agent class\n",
    "class Agent:\n",
    "    def __init__(self, x = None, y = None, grid_size = 100):\n",
    "        self.grid_size = grid_size\n",
    "        self.x = x if not None else random.randint(0, grid_size -1)\n",
    "        self.y = y if not None else random.randint(0, grid_size -1)\n",
    "    \n",
    "    def move(self):\n",
    "        #this moves randomly\n",
    "        self.x = (self.x + random.choice([-1, 1])) % self.grid_size\n",
    "        self.y = (self.y + random.choice([-1, 1])) % self.grid_size"
   ]
  },
  {
   "cell_type": "code",
   "execution_count": 20,
   "metadata": {},
   "outputs": [],
   "source": [
    "#creating multiple agents\n",
    "def Agents(n_agents, grid_size = 100):\n",
    "    return[Agent(grid_size=grid_size) for _ in range(n_agents)]"
   ]
  },
  {
   "cell_type": "code",
   "execution_count": 21,
   "metadata": {},
   "outputs": [],
   "source": [
    "#updating agent movements\n",
    "def update(agents):\n",
    "    for agent in agents:\n",
    "        agent.move()"
   ]
  },
  {
   "cell_type": "code",
   "execution_count": 22,
   "metadata": {},
   "outputs": [],
   "source": [
    "#visualizing the movement\n",
    "def plot_agents(Agents, frames, grid_size=100):\n",
    "    plt.figure(figsize = (6, 6))\n",
    "    plt.xlim(0, grid_size)\n",
    "    plt.ylim(0, grid_size)\n",
    "\n",
    "    x_vals = [agent.x for agent in Agents]\n",
    "    y_vals = [agent.y for agent in Agents]\n",
    "\n",
    "    plt.scatter(x_vals, y_vals, color = \"blue\")\n",
    "    plt.title(\"Agent Movents\")\n",
    "    plt.xlabel(\"X\")\n",
    "    plt.ylabel(\"Y\")\n",
    "    plt.grid(True)\n",
    "    plt.show()"
   ]
  },
  {
   "cell_type": "code",
   "execution_count": 23,
   "metadata": {},
   "outputs": [],
   "source": [
    "#running simulaiton\n",
    "def run_the_simulation(n_agents=10, frames=10, grid_size=100):\n",
    "    agents = Agents(n_agents, grid_size)\n",
    "\n",
    "    for frame in range(frames):\n",
    "        update(agents)\n",
    "        plot_agents(agents, frame, grid_size)"
   ]
  },
  {
   "cell_type": "code",
   "execution_count": 24,
   "metadata": {},
   "outputs": [
    {
     "ename": "TypeError",
     "evalue": "unsupported operand type(s) for +: 'NoneType' and 'int'",
     "output_type": "error",
     "traceback": [
      "\u001b[1;31m---------------------------------------------------------------------------\u001b[0m",
      "\u001b[1;31mTypeError\u001b[0m                                 Traceback (most recent call last)",
      "Cell \u001b[1;32mIn[24], line 1\u001b[0m\n\u001b[1;32m----> 1\u001b[0m \u001b[43mrun_the_simulation\u001b[49m\u001b[43m(\u001b[49m\u001b[38;5;241;43m5\u001b[39;49m\u001b[43m,\u001b[49m\u001b[43m \u001b[49m\u001b[38;5;241;43m5\u001b[39;49m\u001b[43m,\u001b[49m\u001b[43m \u001b[49m\u001b[38;5;241;43m100\u001b[39;49m\u001b[43m)\u001b[49m\n",
      "Cell \u001b[1;32mIn[23], line 6\u001b[0m, in \u001b[0;36mrun_the_simulation\u001b[1;34m(n_agents, frames, grid_size)\u001b[0m\n\u001b[0;32m      3\u001b[0m agents \u001b[38;5;241m=\u001b[39m Agents(n_agents, grid_size)\n\u001b[0;32m      5\u001b[0m \u001b[38;5;28;01mfor\u001b[39;00m frame \u001b[38;5;129;01min\u001b[39;00m \u001b[38;5;28mrange\u001b[39m(frames):\n\u001b[1;32m----> 6\u001b[0m     \u001b[43mupdate\u001b[49m\u001b[43m(\u001b[49m\u001b[43magents\u001b[49m\u001b[43m)\u001b[49m\n\u001b[0;32m      7\u001b[0m     plot_agents(agents, frame, grid_size)\n",
      "Cell \u001b[1;32mIn[21], line 4\u001b[0m, in \u001b[0;36mupdate\u001b[1;34m(agents)\u001b[0m\n\u001b[0;32m      2\u001b[0m \u001b[38;5;28;01mdef\u001b[39;00m\u001b[38;5;250m \u001b[39m\u001b[38;5;21mupdate\u001b[39m(agents):\n\u001b[0;32m      3\u001b[0m     \u001b[38;5;28;01mfor\u001b[39;00m agent \u001b[38;5;129;01min\u001b[39;00m agents:\n\u001b[1;32m----> 4\u001b[0m         \u001b[43magent\u001b[49m\u001b[38;5;241;43m.\u001b[39;49m\u001b[43mmove\u001b[49m\u001b[43m(\u001b[49m\u001b[43m)\u001b[49m\n",
      "Cell \u001b[1;32mIn[19], line 10\u001b[0m, in \u001b[0;36mAgent.move\u001b[1;34m(self)\u001b[0m\n\u001b[0;32m      8\u001b[0m \u001b[38;5;28;01mdef\u001b[39;00m\u001b[38;5;250m \u001b[39m\u001b[38;5;21mmove\u001b[39m(\u001b[38;5;28mself\u001b[39m):\n\u001b[0;32m      9\u001b[0m     \u001b[38;5;66;03m#this moves randomly\u001b[39;00m\n\u001b[1;32m---> 10\u001b[0m     \u001b[38;5;28mself\u001b[39m\u001b[38;5;241m.\u001b[39mx \u001b[38;5;241m=\u001b[39m (\u001b[38;5;28;43mself\u001b[39;49m\u001b[38;5;241;43m.\u001b[39;49m\u001b[43mx\u001b[49m\u001b[43m \u001b[49m\u001b[38;5;241;43m+\u001b[39;49m\u001b[43m \u001b[49m\u001b[43mrandom\u001b[49m\u001b[38;5;241;43m.\u001b[39;49m\u001b[43mchoice\u001b[49m\u001b[43m(\u001b[49m\u001b[43m[\u001b[49m\u001b[38;5;241;43m-\u001b[39;49m\u001b[38;5;241;43m1\u001b[39;49m\u001b[43m,\u001b[49m\u001b[43m \u001b[49m\u001b[38;5;241;43m1\u001b[39;49m\u001b[43m]\u001b[49m\u001b[43m)\u001b[49m) \u001b[38;5;241m%\u001b[39m \u001b[38;5;28mself\u001b[39m\u001b[38;5;241m.\u001b[39mgrid_size\n\u001b[0;32m     11\u001b[0m     \u001b[38;5;28mself\u001b[39m\u001b[38;5;241m.\u001b[39my \u001b[38;5;241m=\u001b[39m (\u001b[38;5;28mself\u001b[39m\u001b[38;5;241m.\u001b[39my \u001b[38;5;241m+\u001b[39m random\u001b[38;5;241m.\u001b[39mchoice([\u001b[38;5;241m-\u001b[39m\u001b[38;5;241m1\u001b[39m, \u001b[38;5;241m1\u001b[39m])) \u001b[38;5;241m%\u001b[39m \u001b[38;5;28mself\u001b[39m\u001b[38;5;241m.\u001b[39mgrid_size\n",
      "\u001b[1;31mTypeError\u001b[0m: unsupported operand type(s) for +: 'NoneType' and 'int'"
     ]
    }
   ],
   "source": [
    "run_the_simulation(5, 5, 100)"
   ]
  }
 ],
 "metadata": {
  "kernelspec": {
   "display_name": "Python 3",
   "language": "python",
   "name": "python3"
  },
  "language_info": {
   "codemirror_mode": {
    "name": "ipython",
    "version": 3
   },
   "file_extension": ".py",
   "mimetype": "text/x-python",
   "name": "python",
   "nbconvert_exporter": "python",
   "pygments_lexer": "ipython3",
   "version": "3.12.6"
  }
 },
 "nbformat": 4,
 "nbformat_minor": 2
}
